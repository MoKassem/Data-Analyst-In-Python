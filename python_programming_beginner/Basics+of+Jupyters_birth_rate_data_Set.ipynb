{
 "cells": [
  {
   "cell_type": "markdown",
   "metadata": {},
   "source": [
    "<p>In this notebook, I'm exploring a dataset on births in the U.S compiled by <strong>FiveThirtyEigh</strong>.</p>\n",
    "\n",
    "\n",
    "<h4>The dataset contains the following columns:</h4>\n",
    "<ul>\n",
    "    <li>year: Year (1994 to 2003).</li>\n",
    "    <li>month: Month (1 to 12).</li>\n",
    "    <li>date_of_month: Day number of the month (1 to 31).</li>\n",
    "    <li>day_of_week: Day of week (1 to 7).</li>\n",
    "    <li>births: Number of births that day.</li>\n",
    "</ul>\n",
    "\n",
    "\n",
    "<p>The dataset can be found here: <a href=\"https://raw.githubusercontent.com/fivethirtyeight/data/master/births/US_births_1994-2003_CDC_NCHS.csv\">dataset</a>\n"
   ]
  },
  {
   "cell_type": "code",
   "execution_count": 1,
   "metadata": {
    "collapsed": true
   },
   "outputs": [],
   "source": [
    "def read_csv(file_name):\n",
    "    final_list=[]\n",
    "    file = open (file_name, \"r\")\n",
    "    string_list = file.read().split(\"\\n\")\n",
    "    string_list =  string_list[1:]\n",
    "   \n",
    "    for string in string_list:\n",
    "        int_fields= []\n",
    "        string_fields = string.split(',')\n",
    "        for field in string_fields:\n",
    "            int_fields.append(int(field))\n",
    "        final_list.append (int_fields)\n",
    "    return final_list\n",
    "            "
   ]
  },
  {
   "cell_type": "code",
   "execution_count": 2,
   "metadata": {
    "collapsed": false
   },
   "outputs": [
    {
     "data": {
      "text/plain": [
       "[[1994, 1, 1, 6, 8096],\n",
       " [1994, 1, 2, 7, 7772],\n",
       " [1994, 1, 3, 1, 10142],\n",
       " [1994, 1, 4, 2, 11248],\n",
       " [1994, 1, 5, 3, 11053],\n",
       " [1994, 1, 6, 4, 11406],\n",
       " [1994, 1, 7, 5, 11251],\n",
       " [1994, 1, 8, 6, 8653],\n",
       " [1994, 1, 9, 7, 7910],\n",
       " [1994, 1, 10, 1, 10498]]"
      ]
     },
     "execution_count": 2,
     "metadata": {},
     "output_type": "execute_result"
    }
   ],
   "source": [
    "cdc_list = read_csv (\"US_births_1994-2003_CDC_NCHS.csv\")\n",
    "cdc_list [:10]"
   ]
  },
  {
   "cell_type": "markdown",
   "metadata": {},
   "source": [
    "Function <strong>month_births(): </strong> takes a single, required argument (a list of lists) and returns a dictionary containing the total number of births for each unique value of the <i>day_of_month</i> column."
   ]
  },
  {
   "cell_type": "code",
   "execution_count": 3,
   "metadata": {
    "collapsed": true
   },
   "outputs": [],
   "source": [
    "def month_births (cdc_month_births_list):\n",
    "    births_per_month = {}\n",
    "    for birth_list in cdc_month_births_list:\n",
    "        month = birth_list [2]\n",
    "        birth =  birth_list [4]\n",
    "        if month in births_per_month:\n",
    "            births_per_month[month]+=birth\n",
    "        else:\n",
    "            births_per_month[month]= birth\n",
    "    return births_per_month\n",
    "        \n",
    "    "
   ]
  },
  {
   "cell_type": "code",
   "execution_count": 4,
   "metadata": {
    "collapsed": false,
    "scrolled": true
   },
   "outputs": [
    {
     "data": {
      "text/plain": [
       "{1: 1276557,\n",
       " 2: 1288739,\n",
       " 3: 1304499,\n",
       " 4: 1288154,\n",
       " 5: 1299953,\n",
       " 6: 1304474,\n",
       " 7: 1310459,\n",
       " 8: 1312297,\n",
       " 9: 1303292,\n",
       " 10: 1320764,\n",
       " 11: 1314361,\n",
       " 12: 1318437,\n",
       " 13: 1277684,\n",
       " 14: 1320153,\n",
       " 15: 1319171,\n",
       " 16: 1315192,\n",
       " 17: 1324953,\n",
       " 18: 1326855,\n",
       " 19: 1318727,\n",
       " 20: 1324821,\n",
       " 21: 1322897,\n",
       " 22: 1317381,\n",
       " 23: 1293290,\n",
       " 24: 1288083,\n",
       " 25: 1272116,\n",
       " 26: 1284796,\n",
       " 27: 1294395,\n",
       " 28: 1307685,\n",
       " 29: 1223161,\n",
       " 30: 1202095,\n",
       " 31: 746696}"
      ]
     },
     "execution_count": 4,
     "metadata": {},
     "output_type": "execute_result"
    }
   ],
   "source": [
    "cdc_month_births = month_births(cdc_list)\n",
    "cdc_month_births"
   ]
  },
  {
   "cell_type": "markdown",
   "metadata": {},
   "source": [
    "Function <strong>dow_births(): </strong> takes a single, required argument (a list of lists) and returns a dictionary containing the total number of births for each unique value of the <i>day_of_week</i> column."
   ]
  },
  {
   "cell_type": "code",
   "execution_count": 5,
   "metadata": {
    "collapsed": false
   },
   "outputs": [],
   "source": [
    "def dow_births (cdc_month_births_list):\n",
    "    births_per_week_day = {}\n",
    "    for birth_list in cdc_month_births_list:\n",
    "        day_of_week = birth_list [3]\n",
    "        birth =  birth_list [4]\n",
    "        if day_of_week in births_per_week_day:\n",
    "            births_per_week_day[day_of_week]+=birth\n",
    "        else:\n",
    "            births_per_week_day[day_of_week] = birth\n",
    "    return births_per_week_day"
   ]
  },
  {
   "cell_type": "code",
   "execution_count": 6,
   "metadata": {
    "collapsed": false
   },
   "outputs": [
    {
     "data": {
      "text/plain": [
       "{1: 5789166,\n",
       " 2: 6446196,\n",
       " 3: 6322855,\n",
       " 4: 6288429,\n",
       " 5: 6233657,\n",
       " 6: 4562111,\n",
       " 7: 4079723}"
      ]
     },
     "execution_count": 6,
     "metadata": {},
     "output_type": "execute_result"
    }
   ],
   "source": [
    "cdc_day_births = dow_births(cdc_list)\n",
    "cdc_day_births"
   ]
  },
  {
   "cell_type": "code",
   "execution_count": 7,
   "metadata": {
    "collapsed": true
   },
   "outputs": [],
   "source": [
    "def calc_counts(data_list, index_to_sum_over):\n",
    "    total_birth_per_index = {}\n",
    "    for d_list in data_list:\n",
    "        index_value = d_list [index_to_sum_over]\n",
    "        birth_at_index_val = d_list [len(d_list) - 1] \n",
    "        if index_value in total_birth_per_index:\n",
    "            total_birth_per_index[index_value]+=birth_at_index_val\n",
    "        else: \n",
    "            total_birth_per_index[index_value]=birth_at_index_val\n",
    "    return total_birth_per_index"
   ]
  },
  {
   "cell_type": "code",
   "execution_count": 8,
   "metadata": {
    "collapsed": false
   },
   "outputs": [
    {
     "data": {
      "text/plain": [
       "{1994: 3952767,\n",
       " 1995: 3899589,\n",
       " 1996: 3891494,\n",
       " 1997: 3880894,\n",
       " 1998: 3941553,\n",
       " 1999: 3959417,\n",
       " 2000: 4058814,\n",
       " 2001: 4025933,\n",
       " 2002: 4021726,\n",
       " 2003: 4089950}"
      ]
     },
     "execution_count": 8,
     "metadata": {},
     "output_type": "execute_result"
    }
   ],
   "source": [
    "cdc_year_births = calc_counts (cdc_list, 0)\n",
    "cdc_year_births"
   ]
  },
  {
   "cell_type": "code",
   "execution_count": 9,
   "metadata": {
    "collapsed": false
   },
   "outputs": [
    {
     "data": {
      "text/plain": [
       "{1: 3232517,\n",
       " 2: 3018140,\n",
       " 3: 3322069,\n",
       " 4: 3185314,\n",
       " 5: 3350907,\n",
       " 6: 3296530,\n",
       " 7: 3498783,\n",
       " 8: 3525858,\n",
       " 9: 3439698,\n",
       " 10: 3378814,\n",
       " 11: 3171647,\n",
       " 12: 3301860}"
      ]
     },
     "execution_count": 9,
     "metadata": {},
     "output_type": "execute_result"
    }
   ],
   "source": [
    "cdc_month_births = calc_counts (cdc_list, 1)\n",
    "cdc_month_births"
   ]
  },
  {
   "cell_type": "code",
   "execution_count": 10,
   "metadata": {
    "collapsed": false
   },
   "outputs": [
    {
     "data": {
      "text/plain": [
       "{1: 1276557,\n",
       " 2: 1288739,\n",
       " 3: 1304499,\n",
       " 4: 1288154,\n",
       " 5: 1299953,\n",
       " 6: 1304474,\n",
       " 7: 1310459,\n",
       " 8: 1312297,\n",
       " 9: 1303292,\n",
       " 10: 1320764,\n",
       " 11: 1314361,\n",
       " 12: 1318437,\n",
       " 13: 1277684,\n",
       " 14: 1320153,\n",
       " 15: 1319171,\n",
       " 16: 1315192,\n",
       " 17: 1324953,\n",
       " 18: 1326855,\n",
       " 19: 1318727,\n",
       " 20: 1324821,\n",
       " 21: 1322897,\n",
       " 22: 1317381,\n",
       " 23: 1293290,\n",
       " 24: 1288083,\n",
       " 25: 1272116,\n",
       " 26: 1284796,\n",
       " 27: 1294395,\n",
       " 28: 1307685,\n",
       " 29: 1223161,\n",
       " 30: 1202095,\n",
       " 31: 746696}"
      ]
     },
     "execution_count": 10,
     "metadata": {},
     "output_type": "execute_result"
    }
   ],
   "source": [
    "cdc_dom_births = calc_counts (cdc_list, 2)\n",
    "cdc_dom_births"
   ]
  },
  {
   "cell_type": "code",
   "execution_count": 11,
   "metadata": {
    "collapsed": false
   },
   "outputs": [
    {
     "data": {
      "text/plain": [
       "{1: 5789166,\n",
       " 2: 6446196,\n",
       " 3: 6322855,\n",
       " 4: 6288429,\n",
       " 5: 6233657,\n",
       " 6: 4562111,\n",
       " 7: 4079723}"
      ]
     },
     "execution_count": 11,
     "metadata": {},
     "output_type": "execute_result"
    }
   ],
   "source": [
    "cdc_dow_births = calc_counts (cdc_list, 3)\n",
    "cdc_dow_births"
   ]
  },
  {
   "cell_type": "markdown",
   "metadata": {
    "collapsed": true
   },
   "source": [
    "<p>A function that can calculate the <strong>min</strong> and <strong>max</strong> values for any dictionary that's passed in.</p>"
   ]
  },
  {
   "cell_type": "code",
   "execution_count": 22,
   "metadata": {
    "collapsed": true
   },
   "outputs": [],
   "source": [
    "def min_max_dict(dictionary):\n",
    "    dict_list = list(dictionary.values())\n",
    "    min =  dict_list[0]\n",
    "    max = min\n",
    "    for el in dict_list:\n",
    "        if el < min:\n",
    "            min=el\n",
    "        else:\n",
    "            max=el\n",
    "    return [min, max]"
   ]
  },
  {
   "cell_type": "code",
   "execution_count": 24,
   "metadata": {
    "collapsed": false
   },
   "outputs": [
    {
     "data": {
      "text/plain": [
       "[2, 40]"
      ]
     },
     "execution_count": 24,
     "metadata": {},
     "output_type": "execute_result"
    }
   ],
   "source": [
    "test_dict ={\n",
    "    \"1\": 2,\n",
    "    \"2\": 40,\n",
    "    \"3\": 16,\n",
    "    \"4\": 8\n",
    "}\n",
    "min_max_list = min_max_dict (test_dict)\n",
    "min_max_list"
   ]
  },
  {
   "cell_type": "code",
   "execution_count": 48,
   "metadata": {
    "collapsed": true
   },
   "outputs": [],
   "source": [
    "def calc_day_of_week_births_per_year(data_list, year, day_of_week, index_day_of_week):\n",
    "    sum=0\n",
    "    for d_list in data_list:        \n",
    "        d_year = d_list[0]\n",
    "        d_day_of_week = d_list[index_day_of_week]\n",
    "        birth = d_list [len(d_list) - 1]\n",
    "        if d_year == year and d_day_of_week == day_of_week:\n",
    "                sum=+birth\n",
    "    return sum\n",
    "            \n",
    "    "
   ]
  },
  {
   "cell_type": "code",
   "execution_count": 54,
   "metadata": {
    "collapsed": false
   },
   "outputs": [],
   "source": [
    "def get_day_of_week_births_per_year (data_list, start_year, end_year, day_of_week, index_day_of_week):\n",
    "    my_dictionat = {}\n",
    "    for year in list(range(start_year, end_year)):\n",
    "        my_dictionat [year] = calc_day_of_week_births_per_year (data_list, year, day_of_week, index_day_of_week)\n",
    "    return my_dictionat\n"
   ]
  },
  {
   "cell_type": "code",
   "execution_count": 55,
   "metadata": {
    "collapsed": false
   },
   "outputs": [
    {
     "data": {
      "text/plain": [
       "{1994: 7192,\n",
       " 1995: 7596,\n",
       " 1996: 8193,\n",
       " 1997: 7864,\n",
       " 1998: 7829,\n",
       " 1999: 7432,\n",
       " 2000: 7721,\n",
       " 2001: 7679,\n",
       " 2002: 7892}"
      ]
     },
     "execution_count": 55,
     "metadata": {},
     "output_type": "execute_result"
    }
   ],
   "source": [
    "saturday_birth_per_year = get_day_of_week_births_per_year (cdc_list, 1994, 2003, 7, 3)\n",
    "saturday_birth_per_year"
   ]
  },
  {
   "cell_type": "code",
   "execution_count": null,
   "metadata": {
    "collapsed": true
   },
   "outputs": [],
   "source": []
  }
 ],
 "metadata": {
  "anaconda-cloud": {},
  "kernelspec": {
   "display_name": "Python 3",
   "language": "python",
   "name": "python3"
  },
  "language_info": {
   "codemirror_mode": {
    "name": "ipython",
    "version": 3
   },
   "file_extension": ".py",
   "mimetype": "text/x-python",
   "name": "python",
   "nbconvert_exporter": "python",
   "pygments_lexer": "ipython3",
   "version": "3.4.3"
  }
 },
 "nbformat": 4,
 "nbformat_minor": 1
}
